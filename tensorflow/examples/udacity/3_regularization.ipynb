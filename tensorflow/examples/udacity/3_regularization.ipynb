{
 "cells": [
  {
   "cell_type": "markdown",
   "metadata": {
    "colab_type": "text",
    "id": "kR-4eNdK6lYS"
   },
   "source": [
    "Deep Learning\n",
    "=============\n",
    "\n",
    "Assignment 3\n",
    "------------\n",
    "\n",
    "Previously in `2_fullyconnected.ipynb`, you trained a logistic regression and a neural network model.\n",
    "\n",
    "The goal of this assignment is to explore regularization techniques."
   ]
  },
  {
   "cell_type": "code",
   "execution_count": 1,
   "metadata": {
    "cellView": "both",
    "colab": {
     "autoexec": {
      "startup": false,
      "wait_interval": 0
     }
    },
    "colab_type": "code",
    "collapsed": true,
    "id": "JLpLa8Jt7Vu4"
   },
   "outputs": [],
   "source": [
    "# These are all the modules we'll be using later. Make sure you can import them\n",
    "# before proceeding further.\n",
    "from __future__ import print_function\n",
    "import numpy as np\n",
    "import tensorflow as tf\n",
    "from six.moves import cPickle as pickle"
   ]
  },
  {
   "cell_type": "markdown",
   "metadata": {
    "colab_type": "text",
    "id": "1HrCK6e17WzV"
   },
   "source": [
    "First reload the data we generated in _notmist.ipynb_."
   ]
  },
  {
   "cell_type": "code",
   "execution_count": 2,
   "metadata": {
    "cellView": "both",
    "colab": {
     "autoexec": {
      "startup": false,
      "wait_interval": 0
     },
     "output_extras": [
      {
       "item_id": 1
      }
     ]
    },
    "colab_type": "code",
    "collapsed": false,
    "executionInfo": {
     "elapsed": 11777,
     "status": "ok",
     "timestamp": 1449849322348,
     "user": {
      "color": "",
      "displayName": "",
      "isAnonymous": false,
      "isMe": true,
      "permissionId": "",
      "photoUrl": "",
      "sessionId": "0",
      "userId": ""
     },
     "user_tz": 480
    },
    "id": "y3-cj1bpmuxc",
    "outputId": "e03576f1-ebbe-4838-c388-f1777bcc9873"
   },
   "outputs": [
    {
     "name": "stdout",
     "output_type": "stream",
     "text": [
      "Training set (200000, 28, 28) (200000,)\n",
      "Validation set (10000, 28, 28) (10000,)\n",
      "Test set (10000, 28, 28) (10000,)\n"
     ]
    }
   ],
   "source": [
    "pickle_file = 'notMNIST.pickle'\n",
    "\n",
    "with open(pickle_file, 'rb') as f:\n",
    "  save = pickle.load(f)\n",
    "  train_dataset = save['train_dataset']\n",
    "  train_labels = save['train_labels']\n",
    "  valid_dataset = save['valid_dataset']\n",
    "  valid_labels = save['valid_labels']\n",
    "  test_dataset = save['test_dataset']\n",
    "  test_labels = save['test_labels']\n",
    "  del save  # hint to help gc free up memory\n",
    "  print('Training set', train_dataset.shape, train_labels.shape)\n",
    "  print('Validation set', valid_dataset.shape, valid_labels.shape)\n",
    "  print('Test set', test_dataset.shape, test_labels.shape)"
   ]
  },
  {
   "cell_type": "markdown",
   "metadata": {
    "colab_type": "text",
    "id": "L7aHrm6nGDMB"
   },
   "source": [
    "Reformat into a shape that's more adapted to the models we're going to train:\n",
    "- data as a flat matrix,\n",
    "- labels as float 1-hot encodings."
   ]
  },
  {
   "cell_type": "code",
   "execution_count": 3,
   "metadata": {
    "cellView": "both",
    "colab": {
     "autoexec": {
      "startup": false,
      "wait_interval": 0
     },
     "output_extras": [
      {
       "item_id": 1
      }
     ]
    },
    "colab_type": "code",
    "collapsed": false,
    "executionInfo": {
     "elapsed": 11728,
     "status": "ok",
     "timestamp": 1449849322356,
     "user": {
      "color": "",
      "displayName": "",
      "isAnonymous": false,
      "isMe": true,
      "permissionId": "",
      "photoUrl": "",
      "sessionId": "0",
      "userId": ""
     },
     "user_tz": 480
    },
    "id": "IRSyYiIIGIzS",
    "outputId": "3f8996ee-3574-4f44-c953-5c8a04636582"
   },
   "outputs": [
    {
     "name": "stdout",
     "output_type": "stream",
     "text": [
      "Training set (200000, 784) (200000, 10)\n",
      "Validation set (10000, 784) (10000, 10)\n",
      "Test set (10000, 784) (10000, 10)\n"
     ]
    }
   ],
   "source": [
    "image_size = 28\n",
    "num_labels = 10\n",
    "\n",
    "def reformat(dataset, labels):\n",
    "  dataset = dataset.reshape((-1, image_size * image_size)).astype(np.float32)\n",
    "  # Map 2 to [0.0, 1.0, 0.0 ...], 3 to [0.0, 0.0, 1.0 ...]\n",
    "  labels = (np.arange(num_labels) == labels[:,None]).astype(np.float32)\n",
    "  return dataset, labels\n",
    "train_dataset, train_labels = reformat(train_dataset, train_labels)\n",
    "valid_dataset, valid_labels = reformat(valid_dataset, valid_labels)\n",
    "test_dataset, test_labels = reformat(test_dataset, test_labels)\n",
    "print('Training set', train_dataset.shape, train_labels.shape)\n",
    "print('Validation set', valid_dataset.shape, valid_labels.shape)\n",
    "print('Test set', test_dataset.shape, test_labels.shape)"
   ]
  },
  {
   "cell_type": "code",
   "execution_count": 4,
   "metadata": {
    "cellView": "both",
    "colab": {
     "autoexec": {
      "startup": false,
      "wait_interval": 0
     }
    },
    "colab_type": "code",
    "collapsed": true,
    "id": "RajPLaL_ZW6w"
   },
   "outputs": [],
   "source": [
    "def accuracy(predictions, labels):\n",
    "  return (100.0 * np.sum(np.argmax(predictions, 1) == np.argmax(labels, 1))\n",
    "          / predictions.shape[0])"
   ]
  },
  {
   "cell_type": "markdown",
   "metadata": {
    "colab_type": "text",
    "id": "sgLbUAQ1CW-1"
   },
   "source": [
    "---\n",
    "Problem 1\n",
    "---------\n",
    "\n",
    "Introduce and tune L2 regularization for both logistic and neural network models. Remember that L2 amounts to adding a penalty on the norm of the weights to the loss. In TensorFlow, you can compute the L2 loss for a tensor `t` using `nn.l2_loss(t)`. The right amount of regularization should improve your validation / test accuracy.\n",
    "\n",
    "---"
   ]
  },
  {
   "cell_type": "markdown",
   "metadata": {},
   "source": [
    "### Logistic Regression with Regularization"
   ]
  },
  {
   "cell_type": "code",
   "execution_count": 16,
   "metadata": {
    "collapsed": true
   },
   "outputs": [],
   "source": [
    "# With gradient descent training, even this much data is prohibitive.\n",
    "# Subset the training data for faster turnaround.\n",
    "l2_regular_facter = 0.01\n",
    "train_subset = 10000\n",
    "\n",
    "graph = tf.Graph()\n",
    "with graph.as_default():\n",
    "\n",
    "  # Input data.\n",
    "  # Load the training, validation and test data into constants that are\n",
    "  # attached to the graph.\n",
    "  tf_train_dataset = tf.constant(train_dataset[:train_subset, :])\n",
    "  tf_train_labels = tf.constant(train_labels[:train_subset])\n",
    "  tf_valid_dataset = tf.constant(valid_dataset)\n",
    "  tf_test_dataset = tf.constant(test_dataset)\n",
    "  \n",
    "  # Variables.\n",
    "  # These are the parameters that we are going to be training. The weight\n",
    "  # matrix will be initialized using random valued following a (truncated)\n",
    "  # normal distribution. The biases get initialized to zero.\n",
    "  weights = tf.Variable(\n",
    "    tf.truncated_normal([image_size * image_size, num_labels]))\n",
    "  biases = tf.Variable(tf.zeros([num_labels]))\n",
    "  \n",
    "  # Training computation.\n",
    "  # We multiply the inputs with the weight matrix, and add biases. We compute\n",
    "  # the softmax and cross-entropy (it's one operation in TensorFlow, because\n",
    "  # it's very common, and it can be optimized). We take the average of this\n",
    "  # cross-entropy across all training examples: that's our loss.\n",
    "  logits = tf.matmul(tf_train_dataset, weights) + biases\n",
    "  loss = tf.reduce_mean(\n",
    "    tf.nn.softmax_cross_entropy_with_logits(logits, tf_train_labels)) + 0.5*tf.nn.l2_loss(weights) * l2_regular_facter\n",
    "  \n",
    "  # Optimizer.\n",
    "  # We are going to find the minimum of this loss using gradient descent.\n",
    "  optimizer = tf.train.GradientDescentOptimizer(0.5).minimize(loss)\n",
    "  \n",
    "  # Predictions for the training, validation, and test data.\n",
    "  # These are not part of training, but merely here so that we can report\n",
    "  # accuracy figures as we train.\n",
    "  train_prediction = tf.nn.softmax(logits)\n",
    "  valid_prediction = tf.nn.softmax(\n",
    "    tf.matmul(tf_valid_dataset, weights) + biases)\n",
    "  test_prediction = tf.nn.softmax(tf.matmul(tf_test_dataset, weights) + biases)"
   ]
  },
  {
   "cell_type": "code",
   "execution_count": 17,
   "metadata": {
    "collapsed": false
   },
   "outputs": [
    {
     "name": "stdout",
     "output_type": "stream",
     "text": [
      "Initialized\n",
      "Loss at step 0: 32.346889\n",
      "Training accuracy: 11.0%\n",
      "Validation accuracy: 13.9%\n",
      "Loss at step 100: 10.440288\n",
      "Training accuracy: 72.6%\n",
      "Validation accuracy: 71.0%\n",
      "Loss at step 200: 6.161615\n",
      "Training accuracy: 76.3%\n",
      "Validation accuracy: 74.4%\n",
      "Loss at step 300: 3.772923\n",
      "Training accuracy: 79.0%\n",
      "Validation accuracy: 76.3%\n",
      "Loss at step 400: 2.423008\n",
      "Training accuracy: 81.3%\n",
      "Validation accuracy: 78.1%\n",
      "Loss at step 500: 1.658149\n",
      "Training accuracy: 83.0%\n",
      "Validation accuracy: 79.5%\n",
      "Loss at step 600: 1.222509\n",
      "Training accuracy: 84.3%\n",
      "Validation accuracy: 80.4%\n",
      "Loss at step 700: 0.972595\n",
      "Training accuracy: 85.1%\n",
      "Validation accuracy: 81.2%\n",
      "Loss at step 800: 0.828229\n",
      "Training accuracy: 85.5%\n",
      "Validation accuracy: 81.5%\n",
      "Test accuracy: 88.6%\n",
      "CPU times: user 1min 45s, sys: 14.7 s, total: 1min 59s\n",
      "Wall time: 37.7 s\n"
     ]
    }
   ],
   "source": [
    "%%time\n",
    "num_steps = 801\n",
    "\n",
    "with tf.Session(graph=graph) as session:\n",
    "  # This is a one-time operation which ensures the parameters get initialized as\n",
    "  # we described in the graph: random weights for the matrix, zeros for the\n",
    "  # biases. \n",
    "  tf.initialize_all_variables().run()\n",
    "  print('Initialized')\n",
    "  for step in range(num_steps):\n",
    "    # Run the computations. We tell .run() that we want to run the optimizer,\n",
    "    # and get the loss value and the training predictions returned as numpy\n",
    "    # arrays.\n",
    "    _, l, predictions = session.run([optimizer, loss, train_prediction])\n",
    "    if (step % 100 == 0):\n",
    "      print('Loss at step %d: %f' % (step, l))\n",
    "      print('Training accuracy: %.1f%%' % accuracy(\n",
    "        predictions, train_labels[:train_subset, :]))\n",
    "      # Calling .eval() on valid_prediction is basically like calling run(), but\n",
    "      # just to get that one numpy array. Note that it recomputes all its graph\n",
    "      # dependencies.\n",
    "      print('Validation accuracy: %.1f%%' % accuracy(\n",
    "        valid_prediction.eval(), valid_labels))\n",
    "  print('Test accuracy: %.1f%%' % accuracy(test_prediction.eval(), test_labels))"
   ]
  },
  {
   "cell_type": "markdown",
   "metadata": {},
   "source": [
    "### One-hidden Layer NN with Regularization"
   ]
  },
  {
   "cell_type": "code",
   "execution_count": 25,
   "metadata": {
    "collapsed": false
   },
   "outputs": [],
   "source": [
    "l2_regular_facter = 0.001\n",
    "hidden_nodes_size = 1024\n",
    "batch_size = 128\n",
    "\n",
    "graph = tf.Graph()\n",
    "with graph.as_default():\n",
    "\n",
    "  # Input data. For the training data, we use a placeholder that will be fed\n",
    "  # at run time with a training minibatch.\n",
    "  tf_train_dataset = tf.placeholder(tf.float32,\n",
    "                                    shape=(batch_size, image_size * image_size))\n",
    "  tf_train_labels = tf.placeholder(tf.float32, shape=(batch_size, num_labels))\n",
    "  tf_valid_dataset = tf.constant(valid_dataset)\n",
    "  tf_test_dataset = tf.constant(test_dataset)\n",
    "  \n",
    "  # Variables.\n",
    "  hidden_weights = tf.Variable(\n",
    "    tf.truncated_normal([image_size * image_size, hidden_nodes_size]))\n",
    "  hidden_biases = tf.Variable(tf.zeros([hidden_nodes_size]))\n",
    "    \n",
    "  weights = tf.Variable(\n",
    "    tf.truncated_normal([hidden_nodes_size, num_labels]))\n",
    "  biases = tf.Variable(tf.zeros([num_labels]))\n",
    "    \n",
    "  \n",
    "  # Training computation.\n",
    "  hidden_logits = tf.matmul(tf_train_dataset, hidden_weights) + hidden_biases\n",
    "  logits = tf.matmul(tf.nn.softmax(hidden_logits), weights) + biases\n",
    "  loss = tf.reduce_mean(\n",
    "    tf.nn.softmax_cross_entropy_with_logits(logits, tf_train_labels)) + \\\n",
    "    0.5 * l2_regular_facter * (tf.nn.l2_loss(hidden_weights) + tf.nn.l2_loss(weights)) # l2 regularization\n",
    "  \n",
    "  # Optimizer.\n",
    "  optimizer = tf.train.GradientDescentOptimizer(0.5).minimize(loss)\n",
    "  \n",
    "  # Predictions for the training, validation, and test data.\n",
    "  train_prediction = tf.nn.softmax(logits)\n",
    "  valid_prediction = tf.nn.softmax(\n",
    "    tf.matmul(\n",
    "            tf.nn.softmax(tf.matmul(tf_valid_dataset, hidden_weights) + hidden_biases), # hidden layer\n",
    "            weights) + biases)\n",
    "  test_prediction = tf.nn.softmax(\n",
    "    tf.matmul(\n",
    "        tf.nn.softmax(tf.matmul(tf_test_dataset, hidden_weights) + hidden_biases), # hidden layer \n",
    "              weights) + biases)"
   ]
  },
  {
   "cell_type": "code",
   "execution_count": 26,
   "metadata": {
    "collapsed": false
   },
   "outputs": [
    {
     "name": "stdout",
     "output_type": "stream",
     "text": [
      "Initialized\n",
      "Minibatch loss at step 0: 159.673187\n",
      "Minibatch accuracy: 12.5%\n",
      "Validation accuracy: 9.3%\n",
      "Minibatch loss at step 500: 123.702698\n",
      "Minibatch accuracy: 57.0%\n",
      "Validation accuracy: 59.6%\n",
      "Minibatch loss at step 1000: 96.340256\n",
      "Minibatch accuracy: 70.3%\n",
      "Validation accuracy: 72.6%\n",
      "Minibatch loss at step 1500: 74.880516\n",
      "Minibatch accuracy: 79.7%\n",
      "Validation accuracy: 77.2%\n",
      "Minibatch loss at step 2000: 58.401337\n",
      "Minibatch accuracy: 84.4%\n",
      "Validation accuracy: 79.1%\n",
      "Minibatch loss at step 2500: 45.782482\n",
      "Minibatch accuracy: 78.9%\n",
      "Validation accuracy: 80.2%\n",
      "Minibatch loss at step 3000: 35.856113\n",
      "Minibatch accuracy: 78.9%\n",
      "Validation accuracy: 81.1%\n",
      "Minibatch loss at step 3500: 27.936251\n",
      "Minibatch accuracy: 82.8%\n",
      "Validation accuracy: 81.4%\n",
      "Minibatch loss at step 4000: 21.898527\n",
      "Minibatch accuracy: 87.5%\n",
      "Validation accuracy: 82.4%\n",
      "Minibatch loss at step 4500: 17.180107\n",
      "Minibatch accuracy: 85.2%\n",
      "Validation accuracy: 82.3%\n",
      "Minibatch loss at step 5000: 13.464406\n",
      "Minibatch accuracy: 86.7%\n",
      "Validation accuracy: 83.0%\n",
      "Minibatch loss at step 5500: 10.787302\n",
      "Minibatch accuracy: 78.9%\n",
      "Validation accuracy: 83.5%\n",
      "Minibatch loss at step 6000: 8.529814\n",
      "Minibatch accuracy: 81.2%\n",
      "Validation accuracy: 83.6%\n",
      "Test accuracy: 90.6%\n",
      "CPU times: user 9min 12s, sys: 34.7 s, total: 9min 47s\n",
      "Wall time: 3min 7s\n"
     ]
    }
   ],
   "source": [
    "%%time\n",
    "num_steps = 6001\n",
    "\n",
    "with tf.Session(graph=graph) as session:\n",
    "  tf.initialize_all_variables().run()\n",
    "  print(\"Initialized\")\n",
    "  for step in range(num_steps):\n",
    "    # Pick an offset within the training data, which has been randomized.\n",
    "    # Note: we could use better randomization across epochs.\n",
    "    offset = (step * batch_size) % (train_labels.shape[0] - batch_size)\n",
    "    # Generate a minibatch.\n",
    "    batch_data = train_dataset[offset:(offset + batch_size), :]\n",
    "    batch_labels = train_labels[offset:(offset + batch_size), :]\n",
    "    # Prepare a dictionary telling the session where to feed the minibatch.\n",
    "    # The key of the dictionary is the placeholder node of the graph to be fed,\n",
    "    # and the value is the numpy array to feed to it.\n",
    "    feed_dict = {tf_train_dataset : batch_data, tf_train_labels : batch_labels}\n",
    "    _, l, predictions = session.run(\n",
    "      [optimizer, loss, train_prediction], feed_dict=feed_dict)\n",
    "    if (step % 500 == 0):\n",
    "      print(\"Minibatch loss at step %d: %f\" % (step, l))\n",
    "      print(\"Minibatch accuracy: %.1f%%\" % accuracy(predictions, batch_labels))\n",
    "      print(\"Validation accuracy: %.1f%%\" % accuracy(\n",
    "        valid_prediction.eval(), valid_labels))\n",
    "  print(\"Test accuracy: %.1f%%\" % accuracy(test_prediction.eval(), test_labels))"
   ]
  },
  {
   "cell_type": "markdown",
   "metadata": {
    "colab_type": "text",
    "id": "na8xX2yHZzNF"
   },
   "source": [
    "---\n",
    "Problem 2\n",
    "---------\n",
    "Let's demonstrate an extreme case of overfitting. Restrict your training data to just a few batches. What happens?\n",
    "\n",
    "---"
   ]
  },
  {
   "cell_type": "code",
   "execution_count": 34,
   "metadata": {
    "collapsed": false
   },
   "outputs": [
    {
     "name": "stdout",
     "output_type": "stream",
     "text": [
      "Initialized\n",
      "Minibatch loss at step 0: 17.923870\n",
      "Minibatch accuracy: 25.0%\n",
      "Validation accuracy: 8.0%\n",
      "Minibatch loss at step 500: 16.770042\n",
      "Minibatch accuracy: 62.5%\n",
      "Validation accuracy: 61.5%\n",
      "Minibatch loss at step 1000: 17.067432\n",
      "Minibatch accuracy: 37.5%\n",
      "Validation accuracy: 70.6%\n",
      "Minibatch loss at step 1500: 14.983482\n",
      "Minibatch accuracy: 87.5%\n",
      "Validation accuracy: 72.1%\n",
      "Minibatch loss at step 2000: 15.245594\n",
      "Minibatch accuracy: 75.0%\n",
      "Validation accuracy: 75.5%\n",
      "Minibatch loss at step 2500: 14.729298\n",
      "Minibatch accuracy: 62.5%\n",
      "Validation accuracy: 74.2%\n",
      "Minibatch loss at step 3000: 15.013306\n",
      "Minibatch accuracy: 62.5%\n",
      "Validation accuracy: 76.2%\n",
      "Minibatch loss at step 3500: 14.771928\n",
      "Minibatch accuracy: 62.5%\n",
      "Validation accuracy: 76.3%\n",
      "Minibatch loss at step 4000: 13.453455\n",
      "Minibatch accuracy: 87.5%\n",
      "Validation accuracy: 76.7%\n",
      "Minibatch loss at step 4500: 13.266834\n",
      "Minibatch accuracy: 87.5%\n",
      "Validation accuracy: 77.6%\n",
      "Minibatch loss at step 5000: 12.880273\n",
      "Minibatch accuracy: 87.5%\n",
      "Validation accuracy: 77.8%\n",
      "Minibatch loss at step 5500: 13.075006\n",
      "Minibatch accuracy: 75.0%\n",
      "Validation accuracy: 78.9%\n",
      "Minibatch loss at step 6000: 12.708853\n",
      "Minibatch accuracy: 75.0%\n",
      "Validation accuracy: 79.3%\n",
      "Test accuracy: 86.3%\n",
      "CPU times: user 3min 27s, sys: 24.5 s, total: 3min 51s\n",
      "Wall time: 1min 26s\n"
     ]
    }
   ],
   "source": [
    "%%time\n",
    "\n",
    "l2_regular_facter = 0.001\n",
    "hidden_nodes_size = 1024\n",
    "batch_size = 8\n",
    "\n",
    "graph = tf.Graph()\n",
    "with graph.as_default():\n",
    "\n",
    "  # Input data. For the training data, we use a placeholder that will be fed\n",
    "  # at run time with a training minibatch.\n",
    "  tf_train_dataset = tf.placeholder(tf.float32,\n",
    "                                    shape=(batch_size, image_size * image_size))\n",
    "  tf_train_labels = tf.placeholder(tf.float32, shape=(batch_size, num_labels))\n",
    "  tf_valid_dataset = tf.constant(valid_dataset)\n",
    "  tf_test_dataset = tf.constant(test_dataset)\n",
    "  \n",
    "  # Variables.\n",
    "  hidden_weights = tf.Variable(\n",
    "    tf.truncated_normal([image_size * image_size, hidden_nodes_size]))\n",
    "  hidden_biases = tf.Variable(tf.zeros([hidden_nodes_size]))\n",
    "    \n",
    "  weights = tf.Variable(\n",
    "    tf.truncated_normal([hidden_nodes_size, num_labels]))\n",
    "  biases = tf.Variable(tf.zeros([num_labels]))\n",
    "    \n",
    "  \n",
    "  # Training computation.\n",
    "  hidden_logits = tf.matmul(tf_train_dataset, hidden_weights) + hidden_biases\n",
    "  logits = tf.matmul(tf.nn.softmax(hidden_logits), weights) + biases\n",
    "  loss = tf.reduce_mean(\n",
    "    tf.nn.softmax_cross_entropy_with_logits(logits, tf_train_labels)) + \\\n",
    "    0.5 * l2_regular_facter * (tf.nn.l2_loss(hidden_weights) + tf.nn.l2_loss(weights)) # l2 regularization\n",
    "  \n",
    "  # Optimizer.\n",
    "  optimizer = tf.train.GradientDescentOptimizer(0.5).minimize(loss)\n",
    "  \n",
    "  # Predictions for the training, validation, and test data.\n",
    "  train_prediction = tf.nn.softmax(logits)\n",
    "  valid_prediction = tf.nn.softmax(\n",
    "    tf.matmul(\n",
    "            tf.nn.softmax(tf.matmul(tf_valid_dataset, hidden_weights) + hidden_biases), # hidden layer\n",
    "            weights) + biases)\n",
    "  test_prediction = tf.nn.softmax(\n",
    "    tf.matmul(\n",
    "        tf.nn.softmax(tf.matmul(tf_test_dataset, hidden_weights) + hidden_biases), # hidden layer \n",
    "              weights) + biases)\n",
    "    \n",
    "num_steps = 6001\n",
    "\n",
    "with tf.Session(graph=graph) as session:\n",
    "  tf.initialize_all_variables().run()\n",
    "  print(\"Initialized\")\n",
    "  for step in range(num_steps):\n",
    "    # Pick an offset within the training data, which has been randomized.\n",
    "    # Note: we could use better randomization across epochs.\n",
    "    offset = (step * batch_size) % (train_labels.shape[0] - batch_size)\n",
    "    # Generate a minibatch.\n",
    "    batch_data = train_dataset[offset:(offset + batch_size), :]\n",
    "    batch_labels = train_labels[offset:(offset + batch_size), :]\n",
    "    # Prepare a dictionary telling the session where to feed the minibatch.\n",
    "    # The key of the dictionary is the placeholder node of the graph to be fed,\n",
    "    # and the value is the numpy array to feed to it.\n",
    "    feed_dict = {tf_train_dataset : batch_data, tf_train_labels : batch_labels}\n",
    "    _, l, predictions = session.run(\n",
    "      [optimizer, loss, train_prediction], feed_dict=feed_dict)\n",
    "    if (step % 500 == 0):\n",
    "      print(\"Minibatch loss at step %d: %f\" % (step, l))\n",
    "      print(\"Minibatch accuracy: %.1f%%\" % accuracy(predictions, batch_labels))\n",
    "      print(\"Validation accuracy: %.1f%%\" % accuracy(\n",
    "        valid_prediction.eval(), valid_labels))\n",
    "  print(\"Test accuracy: %.1f%%\" % accuracy(test_prediction.eval(), test_labels))"
   ]
  },
  {
   "cell_type": "markdown",
   "metadata": {
    "colab_type": "text",
    "id": "ww3SCBUdlkRc"
   },
   "source": [
    "---\n",
    "Problem 3\n",
    "---------\n",
    "Introduce Dropout on the hidden layer of the neural network. Remember: Dropout should only be introduced during training, not evaluation, otherwise your evaluation results would be stochastic as well. TensorFlow provides `nn.dropout()` for that, but you have to make sure it's only inserted during training.\n",
    "\n",
    "What happens to our extreme overfitting case?\n",
    "\n",
    "---"
   ]
  },
  {
   "cell_type": "code",
   "execution_count": 35,
   "metadata": {
    "collapsed": false
   },
   "outputs": [
    {
     "name": "stdout",
     "output_type": "stream",
     "text": [
      "Initialized\n",
      "Minibatch loss at step 0: 791.490845\n",
      "Minibatch accuracy: 9.4%\n",
      "Validation accuracy: 9.9%\n",
      "Minibatch loss at step 500: 227.606735\n",
      "Minibatch accuracy: 36.7%\n",
      "Validation accuracy: 64.2%\n",
      "Minibatch loss at step 1000: 66.352821\n",
      "Minibatch accuracy: 42.2%\n",
      "Validation accuracy: 77.7%\n",
      "Minibatch loss at step 1500: 19.970970\n",
      "Minibatch accuracy: 55.5%\n",
      "Validation accuracy: 80.8%\n",
      "Minibatch loss at step 2000: 6.776862\n",
      "Minibatch accuracy: 56.2%\n",
      "Validation accuracy: 82.0%\n",
      "Minibatch loss at step 2500: 3.217752\n",
      "Minibatch accuracy: 46.9%\n",
      "Validation accuracy: 81.8%\n",
      "Minibatch loss at step 3000: 2.035551\n",
      "Minibatch accuracy: 50.8%\n",
      "Validation accuracy: 82.1%\n",
      "Minibatch loss at step 3500: 1.710478\n",
      "Minibatch accuracy: 50.8%\n",
      "Validation accuracy: 82.8%\n",
      "Minibatch loss at step 4000: 1.524394\n",
      "Minibatch accuracy: 59.4%\n",
      "Validation accuracy: 82.5%\n",
      "Minibatch loss at step 4500: 1.545213\n",
      "Minibatch accuracy: 57.0%\n",
      "Validation accuracy: 82.0%\n",
      "Minibatch loss at step 5000: 1.483569\n",
      "Minibatch accuracy: 57.8%\n",
      "Validation accuracy: 82.6%\n",
      "Minibatch loss at step 5500: 1.450587\n",
      "Minibatch accuracy: 55.5%\n",
      "Validation accuracy: 82.3%\n",
      "Minibatch loss at step 6000: 1.769560\n",
      "Minibatch accuracy: 41.4%\n",
      "Validation accuracy: 82.5%\n",
      "Test accuracy: 89.5%\n",
      "CPU times: user 9min 32s, sys: 49.4 s, total: 10min 21s\n",
      "Wall time: 3min 24s\n"
     ]
    }
   ],
   "source": [
    "%%time\n",
    "l2_regular_facter = 0.005\n",
    "hidden_nodes_size = 1024\n",
    "batch_size = 128\n",
    "\n",
    "graph = tf.Graph()\n",
    "with graph.as_default():\n",
    "\n",
    "  # Input data. For the training data, we use a placeholder that will be fed\n",
    "  # at run time with a training minibatch.\n",
    "  tf_train_dataset = tf.placeholder(tf.float32,\n",
    "                                    shape=(batch_size, image_size * image_size))\n",
    "  tf_train_labels = tf.placeholder(tf.float32, shape=(batch_size, num_labels))\n",
    "  tf_valid_dataset = tf.constant(valid_dataset)\n",
    "  tf_test_dataset = tf.constant(test_dataset)\n",
    "  \n",
    "  # Variables.\n",
    "  hidden_weights = tf.Variable(\n",
    "    tf.truncated_normal([image_size * image_size, hidden_nodes_size]))\n",
    "  hidden_biases = tf.Variable(tf.zeros([hidden_nodes_size]))\n",
    "    \n",
    "  weights = tf.Variable(\n",
    "    tf.truncated_normal([hidden_nodes_size, num_labels]))\n",
    "  biases = tf.Variable(tf.zeros([num_labels]))\n",
    "    \n",
    "  \n",
    "  # Training computation.\n",
    "  hidden_logits = tf.matmul(tf_train_dataset, hidden_weights) + hidden_biases\n",
    "  logits = tf.matmul(\n",
    "        tf.nn.dropout(tf.nn.softmax(hidden_logits), 0.5),\n",
    "        weights) + biases\n",
    "  loss = tf.reduce_mean(\n",
    "    tf.nn.softmax_cross_entropy_with_logits(logits, tf_train_labels)) + \\\n",
    "    0.5 * l2_regular_facter * (tf.nn.l2_loss(hidden_weights) + tf.nn.l2_loss(weights)) # l2 regularization\n",
    "  \n",
    "  # Optimizer.\n",
    "  optimizer = tf.train.GradientDescentOptimizer(0.5).minimize(loss)\n",
    "  \n",
    "  # Predictions for the training, validation, and test data.\n",
    "  train_prediction = tf.nn.softmax(logits)\n",
    "  valid_prediction = tf.nn.softmax(\n",
    "    tf.matmul(\n",
    "            tf.nn.softmax(tf.matmul(tf_valid_dataset, hidden_weights) + hidden_biases), # hidden layer\n",
    "            weights) + biases)\n",
    "  test_prediction = tf.nn.softmax(\n",
    "    tf.matmul(\n",
    "        tf.nn.softmax(tf.matmul(tf_test_dataset, hidden_weights) + hidden_biases), # hidden layer \n",
    "              weights) + biases)\n",
    "    \n",
    "num_steps = 6001\n",
    "\n",
    "with tf.Session(graph=graph) as session:\n",
    "  tf.initialize_all_variables().run()\n",
    "  print(\"Initialized\")\n",
    "  for step in range(num_steps):\n",
    "    # Pick an offset within the training data, which has been randomized.\n",
    "    # Note: we could use better randomization across epochs.\n",
    "    offset = (step * batch_size) % (train_labels.shape[0] - batch_size)\n",
    "    # Generate a minibatch.\n",
    "    batch_data = train_dataset[offset:(offset + batch_size), :]\n",
    "    batch_labels = train_labels[offset:(offset + batch_size), :]\n",
    "    # Prepare a dictionary telling the session where to feed the minibatch.\n",
    "    # The key of the dictionary is the placeholder node of the graph to be fed,\n",
    "    # and the value is the numpy array to feed to it.\n",
    "    feed_dict = {tf_train_dataset : batch_data, tf_train_labels : batch_labels}\n",
    "    _, l, predictions = session.run(\n",
    "      [optimizer, loss, train_prediction], feed_dict=feed_dict)\n",
    "    if (step % 500 == 0):\n",
    "      print(\"Minibatch loss at step %d: %f\" % (step, l))\n",
    "      print(\"Minibatch accuracy: %.1f%%\" % accuracy(predictions, batch_labels))\n",
    "      print(\"Validation accuracy: %.1f%%\" % accuracy(\n",
    "        valid_prediction.eval(), valid_labels))\n",
    "  print(\"Test accuracy: %.1f%%\" % accuracy(test_prediction.eval(), test_labels))"
   ]
  },
  {
   "cell_type": "markdown",
   "metadata": {
    "colab_type": "text",
    "id": "-b1hTz3VWZjw"
   },
   "source": [
    "---\n",
    "Problem 4\n",
    "---------\n",
    "\n",
    "Try to get the best performance you can using a multi-layer model! The best reported test accuracy using a deep network is [97.1%](http://yaroslavvb.blogspot.com/2011/09/notmnist-dataset.html?showComment=1391023266211#c8758720086795711595).\n",
    "\n",
    "One avenue you can explore is to add multiple layers.\n",
    "\n",
    "Another one is to use learning rate decay:\n",
    "\n",
    "    global_step = tf.Variable(0)  # count the number of steps taken.\n",
    "    learning_rate = tf.train.exponential_decay(0.5, step, ...)\n",
    "    optimizer = tf.train.GradientDescentOptimizer(learning_rate).minimize(loss, global_step=global_step)\n",
    " \n",
    " ---\n"
   ]
  },
  {
   "cell_type": "code",
   "execution_count": 39,
   "metadata": {
    "collapsed": false
   },
   "outputs": [
    {
     "name": "stdout",
     "output_type": "stream",
     "text": [
      "Help on function exponential_decay in module tensorflow.python.training.learning_rate_decay:\n",
      "\n",
      "exponential_decay(learning_rate, global_step, decay_steps, decay_rate, staircase=False, name=None)\n",
      "    Applies exponential decay to the learning rate.\n",
      "    \n",
      "    When training a model, it is often recommended to lower the learning rate as\n",
      "    the training progresses.  This function applies an exponential decay function\n",
      "    to a provided initial learning rate.  It requires a `global_step` value to\n",
      "    compute the decayed learning rate.  You can just pass a TensorFlow variable\n",
      "    that you increment at each training step.\n",
      "    \n",
      "    The function returns the decayed learning rate.  It is computed as:\n",
      "    \n",
      "    ```python\n",
      "    decayed_learning_rate = learning_rate *\n",
      "                            decay_rate ^ (global_step / decay_steps)\n",
      "    ```\n",
      "    \n",
      "    If the argument `staircase` is `True`, then `global_step /decay_steps` is an\n",
      "    integer division and the decayed learning rate follows a staircase function.\n",
      "    \n",
      "    Example: decay every 100000 steps with a base of 0.96:\n",
      "    \n",
      "    ```python\n",
      "    ...\n",
      "    global_step = tf.Variable(0, trainable=False)\n",
      "    starter_learning_rate = 0.1\n",
      "    learning_rate = tf.train.exponential_decay(starter_learning_rate, global_step,\n",
      "                                               100000, 0.96, staircase=True)\n",
      "    optimizer = tf.GradientDescentOptimizer(learning_rate)\n",
      "    # Passing global_step to minimize() will increment it at each step.\n",
      "    optimizer.minimize(...my loss..., global_step=global_step)\n",
      "    ```\n",
      "    \n",
      "    Args:\n",
      "      learning_rate: A scalar `float32` or `float64` `Tensor` or a\n",
      "        Python number.  The initial learning rate.\n",
      "      global_step: A scalar `int32` or `int64` `Tensor` or a Python number.\n",
      "        Global step to use for the decay computation.  Must not be negative.\n",
      "      decay_steps: A scalar `int32` or `int64` `Tensor` or a Python number.\n",
      "        Must be positive.  See the decay computation above.\n",
      "      decay_rate: A scalar `float32` or `float64` `Tensor` or a\n",
      "        Python number.  The decay rate.\n",
      "      staircase: Boolean.  It `True` decay the learning rate at discrete intervals.\n",
      "      name: string.  Optional name of the operation.  Defaults to 'ExponentialDecay'\n",
      "    \n",
      "    Returns:\n",
      "      A scalar `Tensor` of the same type as `learning_rate`.  The decayed\n",
      "      learning rate.\n",
      "\n"
     ]
    }
   ],
   "source": [
    "help(tf.train.exponential_decay)"
   ]
  },
  {
   "cell_type": "code",
   "execution_count": null,
   "metadata": {
    "collapsed": false
   },
   "outputs": [
    {
     "name": "stdout",
     "output_type": "stream",
     "text": [
      "Initialized\n",
      "Minibatch loss at step 0: 177.798203\n",
      "Minibatch accuracy: 7.8%\n",
      "Validation accuracy: 10.3%\n",
      "Minibatch loss at step 500: 138.942398\n",
      "Minibatch accuracy: 15.6%\n",
      "Validation accuracy: 22.4%\n",
      "Minibatch loss at step 1000: 108.702728\n",
      "Minibatch accuracy: 14.8%\n",
      "Validation accuracy: 31.6%\n",
      "Minibatch loss at step 1500: 84.912506\n",
      "Minibatch accuracy: 22.7%\n",
      "Validation accuracy: 43.4%\n",
      "Minibatch loss at step 2000: 66.494896\n",
      "Minibatch accuracy: 33.6%\n",
      "Validation accuracy: 54.9%"
     ]
    }
   ],
   "source": [
    "%%time\n",
    "l2_regular_facter = 0.001\n",
    "hidden_one_size = 1024\n",
    "hidden_two_size = 100\n",
    "batch_size = 128\n",
    "num_steps = 3000\n",
    "\n",
    "graph = tf.Graph()\n",
    "with graph.as_default():\n",
    "\n",
    "  # Input data. For the training data, we use a placeholder that will be fed\n",
    "  # at run time with a training minibatch.\n",
    "  tf_train_dataset = tf.placeholder(tf.float32,\n",
    "                                    shape=(batch_size, image_size * image_size))\n",
    "  tf_train_labels = tf.placeholder(tf.float32, shape=(batch_size, num_labels))\n",
    "  tf_valid_dataset = tf.constant(valid_dataset)\n",
    "  tf_test_dataset = tf.constant(test_dataset)\n",
    "  \n",
    "  # Variables.\n",
    "  hidden_one_weights = tf.Variable(\n",
    "    tf.truncated_normal([image_size * image_size, hidden_one_size]))\n",
    "  hidden_one_biases = tf.Variable(tf.zeros([hidden_one_size]))\n",
    "    \n",
    "  hidden_two_weights = tf.Variable(\n",
    "    tf.truncated_normal([hidden_one_size, hidden_two_size]))\n",
    "  hidden_two_biases = tf.Variable(tf.zeros([hidden_two_size]))\n",
    "    \n",
    "    \n",
    "  weights = tf.Variable(\n",
    "    tf.truncated_normal([hidden_two_size, num_labels]))\n",
    "  biases = tf.Variable(tf.zeros([num_labels]))\n",
    "    \n",
    "  \n",
    "  # Training computation.\n",
    "  hidden_one_logits = tf.matmul(tf_train_dataset, hidden_one_weights) + hidden_one_biases\n",
    "  hidden_two_logits = tf.matmul(tf.nn.dropout(tf.nn.softmax(hidden_one_logits), 0.5),\n",
    "                                hidden_two_weights) + hidden_two_biases\n",
    "  logits = tf.matmul(\n",
    "        tf.nn.dropout(tf.nn.softmax(hidden_two_logits), 0.5),\n",
    "        weights) + biases\n",
    "  loss = tf.reduce_mean(\n",
    "    tf.nn.softmax_cross_entropy_with_logits(logits, tf_train_labels)) + \\\n",
    "    0.5 * l2_regular_facter * (tf.nn.l2_loss(hidden_one_weights) +\n",
    "                               tf.nn.l2_loss(hidden_two_weights) +\n",
    "                               tf.nn.l2_loss(weights)) # l2 regularization\n",
    "  \n",
    "  # Optimizer.\n",
    "#   global_step = tf.Variable(0, trainable=False)\n",
    "#   learning_rate = tf.train.exponential_decay(0.5, global_step, 100000, 0.96)\n",
    "#   optimizer = tf.train.GradientDescentOptimizer(learning_rate).minimize(loss, global_step=global_step)\n",
    "\n",
    "  optimizer = tf.train.GradientDescentOptimizer(0.5).minimize(loss)\n",
    "\n",
    "  # Predictions for the training, validation, and test data.\n",
    "  train_prediction = tf.nn.softmax(logits)\n",
    "  def make_prediction(dset):\n",
    "    h1 = tf.nn.softmax(tf.matmul(dset, hidden_one_weights) + hidden_one_biases)\n",
    "    h2 = tf.nn.softmax(tf.matmul(h1, hidden_two_weights) + hidden_two_biases)\n",
    "    output = tf.nn.softmax(tf.matmul(h2, weights) + biases)\n",
    "    return output\n",
    "\n",
    "  valid_prediction = make_prediction(tf_valid_dataset)\n",
    "  test_prediction = make_prediction(tf_test_dataset)\n",
    "    \n",
    "\n",
    "## start tp train\n",
    "with tf.Session(graph=graph) as session:\n",
    "  tf.initialize_all_variables().run()\n",
    "  print(\"Initialized\")\n",
    "  for step in range(num_steps):\n",
    "    # Pick an offset within the training data, which has been randomized.\n",
    "    # Note: we could use better randomization across epochs.\n",
    "    offset = (step * batch_size) % (train_labels.shape[0] - batch_size)\n",
    "    # Generate a minibatch.\n",
    "    batch_data = train_dataset[offset:(offset + batch_size), :]\n",
    "    batch_labels = train_labels[offset:(offset + batch_size), :]\n",
    "    # Prepare a dictionary telling the session where to feed the minibatch.\n",
    "    # The key of the dictionary is the placeholder node of the graph to be fed,\n",
    "    # and the value is the numpy array to feed to it.\n",
    "    feed_dict = {tf_train_dataset : batch_data, tf_train_labels : batch_labels}\n",
    "    _, l, predictions = session.run(\n",
    "      [optimizer, loss, train_prediction], feed_dict=feed_dict)\n",
    "    if (step % 500 == 0):\n",
    "      print(\"Minibatch loss at step %d: %f\" % (step, l))\n",
    "      print(\"Minibatch accuracy: %.1f%%\" % accuracy(predictions, batch_labels))\n",
    "      print(\"Validation accuracy: %.1f%%\" % accuracy(\n",
    "        valid_prediction.eval(), valid_labels))\n",
    "  print(\"Test accuracy: %.1f%%\" % accuracy(test_prediction.eval(), test_labels))"
   ]
  }
 ],
 "metadata": {
  "colab": {
   "default_view": {},
   "name": "3_regularization.ipynb",
   "provenance": [],
   "version": "0.3.2",
   "views": {}
  },
  "kernelspec": {
   "display_name": "Python 2",
   "language": "python",
   "name": "python2"
  },
  "language_info": {
   "codemirror_mode": {
    "name": "ipython",
    "version": 2
   },
   "file_extension": ".py",
   "mimetype": "text/x-python",
   "name": "python",
   "nbconvert_exporter": "python",
   "pygments_lexer": "ipython2",
   "version": "2.7.10"
  }
 },
 "nbformat": 4,
 "nbformat_minor": 0
}
